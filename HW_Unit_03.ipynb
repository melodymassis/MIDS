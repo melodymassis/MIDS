{
 "cells": [
  {
   "cell_type": "markdown",
   "metadata": {},
   "source": [
    "## Week 3 Assignment -  DATASCI200 Introduction to Data Science Programming, UC Berkeley MIDS"
   ]
  },
  {
   "cell_type": "markdown",
   "metadata": {},
   "source": [
    "Write code in this Jupyter Notebook to solve the following problems. Please upload this **Notebook** with your solutions to your GitHub repository and gradescope.\n",
    "\n",
    "Assignment due date: 11:59PM PST the night before the Week 4 Live Session."
   ]
  },
  {
   "cell_type": "markdown",
   "metadata": {},
   "source": [
    "## Objectives:\n",
    "\n",
    "- More practice with while loops, if statements and gathering user inputs\n",
    "- Demonstrate use of Python data structures such as lists, tuples, and dictionaries\n",
    "- Understand how to add items to these data structures and print the contents of each to the user"
   ]
  },
  {
   "cell_type": "markdown",
   "metadata": {},
   "source": [
    "## General Guidelines:\n",
    "\n",
    "- In each code block, do NOT delete the ### comment at the top of a cell (it's needed for the auto-grading!)\n",
    "  - Full autograder tests and results are on gradescope.\n",
    "  - You will get the full 100 points from the autograder for this assignment.\n",
    "  - You may upload and run the autograder as many times as needed in your time window to get full points\n",
    "  - The assignment needs to be named HW_Unit_03.ipynb to be graded from the autograder!\n",
    "  - The examples given are samples of how we will test/grade your code. Please ensure your code outputs the same information.\n",
    "    - In addition to the given example, the autograder will test other examples\n",
    "    - Each autograder test tells you what input it is using and the expected output\n",
    "  - The autograder once complete will show the tests that are passed and failed and your total score\n",
    "  - The autograder fails for a couple of reasons:\n",
    "    - Your code crashes with that input (for example: `Test Failed: string index out of range`)\n",
    "    - Your code output does not match the 'correct' output (for example: `Test Failed: '1 2 3 2 1' != '1 4 6 4 1'`)\n",
    "- Limited user input validation and error checking is encouraged on this assignment. Each question below will indicate the type of input that you can expect. (for example, if the question states the input will be an integer, you can expect the user to input an integer and do not need to check to ensure it is an integer versus a float or a string)\n",
    "- Adding comments in your code is strongly suggested but won't be graded.\n",
    "- If you are stuck on a problem or do not understand a question - please come to office hours or ask questions to the class slack channel (please don't post your code though). If it is a coding problem send a private email to all of the instructors at: mids-python-instructors@googlegroups.com\n",
    "- You may use any libraries from the Python Standard Library for this assignment: https://docs.python.org/3/library/\n",
    "- We also have tutors if you would like a 1 on 1 session!"
   ]
  },
  {
   "cell_type": "markdown",
   "metadata": {},
   "source": [
    "## Grading Rubric\n",
    "\n",
    "General grading rubric guidelines / philosophy:\n",
    "\n",
    "- The total possible points will be shown for each question\n",
    "- Please read each question carefully to understand the requirements\n",
    "- Points for each question are rewarded based on how well your code fulfills those requirements\n",
    "- All of the problems have an example given to help show what is needed and how to format the answer\n",
    "\n",
    "More on grading:\n",
    "- If the question is blank / not attempted, no points will be given\n",
    "- Most points are given for code that runs (does not crash) and fulfills the requirements"
   ]
  },
  {
   "cell_type": "markdown",
   "metadata": {
    "collapsed": true
   },
   "source": [
    "### 3-1. Pig Latin Translator (25 points)\n",
    "\n",
    "Write code that translates a name into (simplified) Pig Latin. (Please do not make this a 'real' Pig Latin translator.)  Have your script ask the user for his or her name, which can comprise first, middle, and/or last parts. For each name part, move the first letter to the end of the part and append the letters \"ay\". Make sure that only the first letter of each word in your output is capitalized. You can use the ```split()``` method on the string to create a list of the name parts. Be sure that your script can handle one, two or three name parts separated by spaces. This will likely involve a loop.\n",
    "\n",
    "Your script should re-create the following example exactly:\n",
    "\n",
    "```\n",
    "Enter your name: Paul Laskowski\n",
    "\n",
    "Aulpay Askowskilay\n",
    "```"
   ]
  },
  {
   "cell_type": "code",
   "execution_count": 2,
   "metadata": {},
   "outputs": [
    {
     "name": "stdout",
     "output_type": "stream",
     "text": [
      "Please enter your full name: paul rob chris\n",
      "Aulpay Obray Ischray\n"
     ]
    }
   ],
   "source": [
    "### Q3-1 Grading Tag: Please put your entire solution in this cell. Don't edit this line.\n",
    "\n",
    "def to_pig_latin(word):\n",
    "    vowels = ['a', 'e', 'i', 'o', 'u']\n",
    "    is_capitalized = word[0].isupper()\n",
    "    \n",
    "    #convert to lowercase\n",
    "    word = word.lower()\n",
    "    \n",
    "    if word[0] in vowels:\n",
    "        pig_latin = word + \"ay\"\n",
    "    else:\n",
    "        for i in range(len(word)):\n",
    "            if word[i] in vowels:\n",
    "                pig_latin = word[i:] + word[:i] + \"ay\"\n",
    "                break\n",
    "    \n",
    "    if is_capitalized:\n",
    "        pig_latin = pig_latin.capitalize()\n",
    "        \n",
    "    return pig_latin\n",
    "\n",
    "full_name = input(\"Please enter your full name: \")\n",
    "names = full_name.split()\n",
    "pig_latin_names = []\n",
    "\n",
    "for name in names:\n",
    "    pig_latin_names.append(to_pig_latin(name).capitalize())\n",
    "\n",
    "pig_latin_name = ' '.join(pig_latin_names)\n",
    "print(pig_latin_name)"
   ]
  },
  {
   "cell_type": "markdown",
   "metadata": {
    "collapsed": true
   },
   "source": [
    "### 3-2. Matrix Inverter (25 points)\n",
    "\n",
    "One place where the usage of tuples is convenient is in the representation of matrices.  The values in a 2x2 matrix are labeled as follows:\n",
    "$$\n",
    "\\begin{bmatrix}\n",
    "    a       & b  \\\\\n",
    "    c       & d\n",
    "\\end{bmatrix}\n",
    "$$\n",
    "\n",
    "Write code that asks the user for a text string including the four **numbers**, a, b, c, and d, separated by spaces.  You can use the `split()` method on the string to create a list of the four values in order.\n",
    "\n",
    "Create a tuple that represents each row, then create a tuple that contains those two tuples.  It should have the form `((a, b), (c, d))`.  **Print this representation.**\n",
    "\n",
    "The inverse of the matrix above is given by the formula:\n",
    "\n",
    "$$\n",
    "\\frac{1}{ad-bc} \\begin{bmatrix}\n",
    "    d       & -b  \\\\\n",
    "    -c       & a\n",
    "\\end{bmatrix}\n",
    "$$\n",
    "\n",
    "Recall that multiplying a matrix by a number effectively multiplies each element of the matrix by that number.\n",
    "\n",
    "Compute the inverse of the given matrix, again represented as nested tuples and **print this out**. \n",
    "\n",
    "Answer format:\n",
    "- The numbers below are fomatted to 4 decimal places but you do not need to do this \n",
    "- The outputted numbers do need to be floats\n",
    "\n",
    "```\n",
    "Please enter four numbers separated by spaces: 1 2 3 4\n",
    "\n",
    "matrix: ((1.0000, 2.0000), (3.0000, 4.0000))\n",
    "inverse: ((-2.0000, 1.0000), (1.5000, -0.5000))\n",
    "```"
   ]
  },
  {
   "cell_type": "code",
   "execution_count": 5,
   "metadata": {},
   "outputs": [
    {
     "name": "stdout",
     "output_type": "stream",
     "text": [
      "Please enter four numbers separated by spaces: 10 2 3 4\n",
      "Matrix: ( (10.0, 2.0) , (3.0, 4.0) )\n",
      "Inverse: ( (0.1176, 0.0588, 0.0882, 0.2941) )\n"
     ]
    }
   ],
   "source": [
    "### Q3-2 Grading Tag: Please put your entire solution in this cell. Don't edit this line.\n",
    "user_entry = input('Please enter four numbers separated by spaces: ')\n",
    "numbers = user_entry.split()\n",
    "\n",
    "# Check if exactly four numbers were provided\n",
    "if len(numbers) != 4:\n",
    "    print(\"Please provide exactly four numbers separated by spaces.\")\n",
    "else:\n",
    "    matrix1 = (\n",
    "        (float(numbers[0]), float(numbers[1])),\n",
    "        (float(numbers[2]), float(numbers[3]))\n",
    "    )\n",
    "\n",
    "    row1 = matrix1[0]\n",
    "    row2 = matrix1[1]\n",
    "\n",
    "    print('Matrix: (', row1, \",\", row2, \")\")\n",
    "\n",
    "    # Calculate the determinant\n",
    "    determinant = float(numbers[0]) * float(numbers[3]) - float(numbers[1]) * float(numbers[2])\n",
    "\n",
    "    # Check if the matrix is invertible (determinant is not zero)\n",
    "    if determinant != 0:\n",
    "        formula = 1.0 / determinant\n",
    "        inverse = (\n",
    "            float(numbers[3]) * formula,\n",
    "            float(numbers[1]) * formula,\n",
    "            float(numbers[2]) * formula,\n",
    "            float(numbers[0]) * formula\n",
    "        )\n",
    "\n",
    "        # Format inverse values with four decimal places\n",
    "        inverse_str = '({:.4f}, {:.4f}, {:.4f}, {:.4f})'.format(inverse[0], inverse[1], inverse[2], inverse[3])\n",
    "        print('Inverse: (', inverse_str, ')')\n",
    "    else:\n",
    "        print(\"The matrix is not invertible because the determinant is zero.\")\n"
   ]
  },
  {
   "cell_type": "markdown",
   "metadata": {},
   "source": [
    "### 3-3. Fibonacci (25 points)\n",
    "\n",
    "The Fibonacci numbers begin with 1, 1.  After the first two numbers, each number is the sum of the previous two. 1 + 1 = 2, so 2 is the third number. Then 1 + 2 = 3, so 3 is the next one, and so on. Write a script that prompts the user for an integer number, then prints all the Fibonacci numbers that are less than or equal to the input, in order.\n",
    "\n",
    "Example:\n",
    "```\n",
    "Enter a number: 15\n",
    "\n",
    "1 1 2 3 5 8 13\n",
    "```"
   ]
  },
  {
   "cell_type": "code",
   "execution_count": 18,
   "metadata": {},
   "outputs": [
    {
     "name": "stdout",
     "output_type": "stream",
     "text": [
      "Enter an integer number: 5\n",
      "1 1 2 3 5\n"
     ]
    }
   ],
   "source": [
    "### Q3-3 Grading Tag: Please put your entire solution in this cell. Don't edit this line.\n",
    "\n",
    "n = int(input('Enter an integer number: '))\n",
    "# a = 0\n",
    "# b = 1\n",
    "# addition = a + b\n",
    "fib_list = [1, 1]\n",
    "\n",
    "# Calculate Fibonacci numbers less than or equal to max_number\n",
    "while fib_list[-1] <= n:\n",
    "    # Calculate the next Fibonacci number by summing the last two\n",
    "    next_fib = fib_list[-1] + fib_list[-2]\n",
    "    \n",
    "    # Append the next Fibonacci number to the list\n",
    "    fib_list.append(next_fib)\n",
    "\n",
    "print(' '.join(map(str, fib_list[:-1])))"
   ]
  },
  {
   "cell_type": "markdown",
   "metadata": {},
   "source": [
    "### 3-4. Pascal's Triangle (25 points)\n",
    "\n",
    "Pascal's triangle is a triangle of numbers that is computed as follows. The first row contains a 1.  Each row after that begins and ends with a 1, and every other number is the sum of the two numbers above it. The first six rows of Pascal's triangle are shown below.\n",
    "```\n",
    "      1\n",
    "     1 1\n",
    "    1 2 1\n",
    "  1  3 3  1\n",
    " 1 4  6  4 1\n",
    "1 5 10 10 5 1\n",
    "```\n",
    "Write a script to compute and print the *n*th row of Pascal's triangle. Do not spend time trying to print the entire triangle in the format above (it is for illustrative purposes only).  The input will be the row number as an integer starting with row 1 as the first row.\n",
    "\n",
    "** Hint: Think about the type of objects you need to solve the problem. What are you iterating over? It may help to calculate a couple of rows by hand and think about the process you take. **\n",
    "\n",
    "Example:\n",
    "```\n",
    "Enter a row number: 5\n",
    "\n",
    "1 4 6 4 1\n",
    "```\n"
   ]
  },
  {
   "cell_type": "code",
   "execution_count": 11,
   "metadata": {},
   "outputs": [
    {
     "name": "stdout",
     "output_type": "stream",
     "text": [
      "Enter a row number: 5\n",
      "1 4 6 4 1\n"
     ]
    }
   ],
   "source": [
    "### Q3-4 Grading Tag: Please put your entire solution in this cell. Don't edit this line.\n",
    "\n",
    "# Get the user input for the row number\n",
    "row_number = int(input(\"Enter a row number: \"))\n",
    "\n",
    "if row_number <= 0:\n",
    "    print(\"Invalid input. Please enter a positive row number.\")\n",
    "else:\n",
    "    # Initialize the first row with 1\n",
    "    row = [1]\n",
    "\n",
    "    for i in range(1, row_number):\n",
    "        # Calculate the next row based on the previous row\n",
    "        next_row = [1]  # Each row starts with 1\n",
    "\n",
    "        for j in range(1, len(row)):\n",
    "            next_row.append(row[j - 1] + row[j])\n",
    "\n",
    "        next_row.append(1)  # Each row ends with 1\n",
    "        row = next_row  # Update the current row\n",
    "\n",
    "    # Print the nth row of Pascal's triangle\n",
    "    print(' '.join(map(str, row)))"
   ]
  },
  {
   "cell_type": "markdown",
   "metadata": {},
   "source": [
    "## If you have feedback for this homework, please submit it using the link below:\n",
    "\n",
    "http://goo.gl/forms/74yCiQTf6k"
   ]
  },
  {
   "cell_type": "code",
   "execution_count": null,
   "metadata": {},
   "outputs": [],
   "source": []
  }
 ],
 "metadata": {
  "anaconda-cloud": {},
  "kernelspec": {
   "display_name": "Python 3 (ipykernel)",
   "language": "python",
   "name": "python3"
  },
  "language_info": {
   "codemirror_mode": {
    "name": "ipython",
    "version": 3
   },
   "file_extension": ".py",
   "mimetype": "text/x-python",
   "name": "python",
   "nbconvert_exporter": "python",
   "pygments_lexer": "ipython3",
   "version": "3.11.4"
  }
 },
 "nbformat": 4,
 "nbformat_minor": 1
}
